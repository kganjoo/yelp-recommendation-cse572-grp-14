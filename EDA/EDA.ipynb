{
 "cells": [
  {
   "cell_type": "markdown",
   "metadata": {},
   "source": [
    "## Yelp Data Initial Exploration - Business Data"
   ]
  },
  {
   "cell_type": "code",
   "execution_count": null,
   "metadata": {},
   "outputs": [],
   "source": [
    "## preps\n",
    "import json\n",
    "import numpy as np\n",
    "import pandas as pd\n",
    "import matplotlib.pyplot as plt\n",
    "%matplotlib inline\n"
   ]
  },
  {
   "cell_type": "code",
   "execution_count": null,
   "metadata": {},
   "outputs": [],
   "source": [
    "print(1e7)"
   ]
  },
  {
   "cell_type": "code",
   "execution_count": null,
   "metadata": {},
   "outputs": [],
   "source": [
    "def plotTopFreq(dat, var, top_n, title):\n",
    "    #cat_data.categories\n",
    "    Categories={}\n",
    "    for cat in dat[var].values:\n",
    "#     print(cat)\n",
    "        if cat != None:\n",
    "            all_categories= cat.split(\",\")\n",
    "            all_categories = [x.strip() for x in all_categories]\n",
    "        for x in all_categories:\n",
    "            try :\n",
    "                Categories[x] =Categories[x]+1\n",
    "            except:\n",
    "                Categories[x]=1\n",
    "    top_categories = pd.DataFrame.from_dict(data= Categories,orient=\"index\")\n",
    "    top_categories.reset_index(inplace=True)\n",
    "    top_categories.columns = ['category', 'occurance']\n",
    "\n",
    "    x_val=top_categories.sort_values(\"occurance\")[::-1][:top_n].occurance.values\n",
    "    labels=top_categories.sort_values(\"occurance\")[::-1][:top_n].category.values\n",
    "    series = pd.Series(x_val, index=labels, name=title)\n",
    "    series.plot.pie(figsize=(10, 10),startangle=90)\n",
    "    "
   ]
  },
  {
   "cell_type": "markdown",
   "metadata": {},
   "source": [
    "## Business Data preview"
   ]
  },
  {
   "cell_type": "code",
   "execution_count": null,
   "metadata": {},
   "outputs": [],
   "source": [
    "# load and preview the data\n",
    "business_data = []\n",
    "with open(\"/Users/kalhan/Downloads/yelp_academic_dataset_business.json\") as f:\n",
    "    for line in f:\n",
    "        business_data.append(json.loads(line))\n",
    "business_df = pd.DataFrame.from_dict(business_data)\n",
    "business_df.head()\n"
   ]
  },
  {
   "cell_type": "code",
   "execution_count": null,
   "metadata": {},
   "outputs": [],
   "source": [
    "business_df.info()"
   ]
  },
  {
   "cell_type": "code",
   "execution_count": null,
   "metadata": {},
   "outputs": [],
   "source": [
    "# \"name\" column name is ambiguous with df.name - change it\n",
    "business_df = business_df.rename(columns = {'name': 'business_name'})"
   ]
  },
  {
   "cell_type": "code",
   "execution_count": null,
   "metadata": {},
   "outputs": [],
   "source": [
    "## Top 15 business ategories\n",
    "plotTopFreq(business_df,\"categories\",15,\"Top business types\")"
   ]
  },
  {
   "cell_type": "code",
   "execution_count": null,
   "metadata": {},
   "outputs": [],
   "source": [
    "## top cities\n",
    "plotTopFreq(business_df,\"city\",15,\"Top cities\")"
   ]
  },
  {
   "cell_type": "markdown",
   "metadata": {},
   "source": [
    "### We subset restaurants:\n"
   ]
  },
  {
   "cell_type": "code",
   "execution_count": null,
   "metadata": {},
   "outputs": [],
   "source": [
    "restaurants = (business_df[\"categories\"].str.find(\"Restaurants\")>=0)\n",
    "bars = (business_df[\"categories\"].str.find(\"Bars\")>=0)\n",
    "food = (business_df[\"categories\"].str.find(\"Food\")>=0)\n",
    "food_restaurants_bar = [a or b or c for a, b,c in zip(restaurants, bars, food)]"
   ]
  },
  {
   "cell_type": "code",
   "execution_count": null,
   "metadata": {},
   "outputs": [],
   "source": [
    "restaurants.sum()"
   ]
  },
  {
   "cell_type": "code",
   "execution_count": null,
   "metadata": {},
   "outputs": [],
   "source": [
    "restaurants_bar = [a or b for a, b in zip(restaurants, bars)]\n",
    "np.sum(restaurants_bar)"
   ]
  },
  {
   "cell_type": "markdown",
   "metadata": {},
   "source": [
    "* __We do not need to keep the business universe too broad, since that way the review matrix will be even more sparse. Instead we first only focus on \"restaurants\"__"
   ]
  },
  {
   "cell_type": "code",
   "execution_count": null,
   "metadata": {},
   "outputs": [],
   "source": [
    "foods_df = business_df[restaurants]\n",
    "print(foods_df.shape)\n",
    "foods_df.head()"
   ]
  },
  {
   "cell_type": "markdown",
   "metadata": {},
   "source": []
  },
  {
   "cell_type": "markdown",
   "metadata": {},
   "source": [
    "- __Second, We focus on cities where the reviews per business is high__"
   ]
  },
  {
   "cell_type": "code",
   "execution_count": null,
   "metadata": {},
   "outputs": [],
   "source": [
    "plt.subplot(1,2,1)\n",
    "plotTopFreq(foods_df,\"categories\",10,\"Top Business\")\n",
    "plt.subplot(1,2,2)\n",
    "plotTopFreq(foods_df,\"city\",10,\"Top cities\")"
   ]
  },
  {
   "cell_type": "code",
   "execution_count": null,
   "metadata": {},
   "outputs": [],
   "source": [
    "## restaurant review counts by city\n",
    "review_count = foods_df.groupby(\"city\", as_index=False)[\"review_count\"].agg(sum).sort_values(by = \"review_count\", ascending = False)\n",
    "top_reviews = review_count.iloc[:15]\n",
    "top_reviews = top_reviews.set_index(\"city\")\n",
    "top_reviews.plot.bar()\n",
    "plt.title(\"top review counts\")"
   ]
  },
  {
   "cell_type": "code",
   "execution_count": null,
   "metadata": {},
   "outputs": [],
   "source": [
    "top_reviews"
   ]
  },
  {
   "cell_type": "markdown",
   "metadata": {},
   "source": [
    "## Finalize our candidate cities:"
   ]
  },
  {
   "cell_type": "code",
   "execution_count": null,
   "metadata": {},
   "outputs": [],
   "source": [
    "## For simplicity, we choose the top 5 cities by review counts\n",
    "top_reviews.iloc[:5]"
   ]
  },
  {
   "cell_type": "code",
   "execution_count": null,
   "metadata": {},
   "outputs": [],
   "source": [
    "### Top review counts per restaurant\n",
    "top_avg_reviews = foods_df.groupby(\"city\", as_index=False)[\"review_count\"].median().sort_values(\"review_count\", ascending = False)\n",
    "top_avg_reviews.loc[top_avg_reviews[\"city\"].isin(top_reviews.index.values)].plot.bar(x = \"city\", y = \"review_count\")\n",
    "plt.title(\"Median reviews per retaurants for those cities in top 15 by total reviews\")"
   ]
  },
  {
   "cell_type": "code",
   "execution_count": null,
   "metadata": {},
   "outputs": [],
   "source": [
    "## we keep the top candidate cities that have high median reviews per restaurant\n",
    "candidates = top_avg_reviews.loc[top_avg_reviews[\"city\"].isin(top_reviews.iloc[:5].index.values)]\n",
    "print(\"Avg reviews per restaurant:\")\n",
    "print(candidates)"
   ]
  },
  {
   "cell_type": "code",
   "execution_count": null,
   "metadata": {},
   "outputs": [],
   "source": [
    "df_res_business = foods_df[foods_df[\"city\"].isin(candidates[\"city\"])]\n",
    "df_res_business.to_csv(\"business_data_subset.csv\", index = None)"
   ]
  },
  {
   "cell_type": "code",
   "execution_count": null,
   "metadata": {},
   "outputs": [],
   "source": [
    "df_res_business.head()"
   ]
  },
  {
   "cell_type": "code",
   "execution_count": null,
   "metadata": {},
   "outputs": [],
   "source": [
    "df_res_bus = pd.read_csv(\"business_data_subset.csv\", index_col= None)\n",
    "df_res_bus_ids = df_res_bus.business_id.unique()\n",
    "df_res_bus.head()"
   ]
  },
  {
   "cell_type": "code",
   "execution_count": null,
   "metadata": {},
   "outputs": [],
   "source": [
    "print(df_res_bus.shape)\n",
    "print(df_res_bus.groupby([\"city\"])[\"business_id\"].size().sort_values(ascending = False).plot.bar())\n",
    "plt.title(\"number of restaurants\")"
   ]
  },
  {
   "cell_type": "code",
   "execution_count": null,
   "metadata": {},
   "outputs": [],
   "source": [
    "print(\"*\"*80)\n",
    "print(\"Total Reviews:\")\n",
    "print(df_res_bus.groupby([\"city\"])[\"review_count\"].agg(sum).sort_values(ascending = False).plot.bar())\n",
    "print(\"*\"*80)\n",
    "print(\"Reviews per restaurant:\")\n",
    "df_res_bus.groupby([\"city\"])[\"review_count\"].describe().sort_values(\"50%\", ascending = False) "
   ]
  },
  {
   "cell_type": "markdown",
   "metadata": {},
   "source": [
    "## Review Data"
   ]
  },
  {
   "cell_type": "code",
   "execution_count": null,
   "metadata": {},
   "outputs": [],
   "source": [
    "## Review data for restaurants\n",
    "## This will take a long time\n",
    "'''\n",
    "# THIS CELL HAS ALREADY BEEN EXECUTED\n",
    "review_data_samp = []\n",
    "count = 0\n",
    "count_cap = 1e7 #### TODO, increse this cap to atleast 1e8\n",
    "count = 0\n",
    "with open(\"/Users/kalhan/Downloads/yelp_academic_dataset_review.json\") as f:\n",
    "    for i,line in enumerate(f):\n",
    "        print(i)\n",
    "        if i > count_cap:\n",
    "            break \n",
    "        if json.loads(line)[\"business_id\"] in df_res_bus_ids:\n",
    "            review_data_samp.append(json.loads(line))   \n",
    "review_df_samp = pd.DataFrame.from_dict(review_data_samp)\n",
    "review_df_samp.to_csv(\"reviews_data_subset.csv\", index=None)\n",
    "'''"
   ]
  },
  {
   "cell_type": "code",
   "execution_count": null,
   "metadata": {},
   "outputs": [],
   "source": [
    "reviews_df = pd.read_csv(\"reviews_data_subset.csv\")\n",
    "reviews_df.head()\n",
    "reviews_df.head()\n"
   ]
  },
  {
   "cell_type": "code",
   "execution_count": null,
   "metadata": {},
   "outputs": [],
   "source": [
    "print(reviews_df.shape)\n",
    "\n",
    "\n",
    "df_merge = pd.merge(reviews_df, df_res_bus[['city','categories', 'business_id',\"review_count\"]], how = \"outer\", on =\"business_id\")\n",
    "df_merge.head()\n"
   ]
  },
  {
   "cell_type": "code",
   "execution_count": null,
   "metadata": {},
   "outputs": [],
   "source": [
    "df_merge.isnull().sum()"
   ]
  },
  {
   "cell_type": "code",
   "execution_count": null,
   "metadata": {},
   "outputs": [],
   "source": [
    "df_merge.dropna(inplace=True)"
   ]
  },
  {
   "cell_type": "code",
   "execution_count": null,
   "metadata": {},
   "outputs": [],
   "source": [
    "df_merge.city.unique()"
   ]
  },
  {
   "cell_type": "code",
   "execution_count": null,
   "metadata": {},
   "outputs": [],
   "source": [
    "x = df_merge.groupby([\"city\",\"user_id\"]).size().reset_index()\n",
    "print(\"users' reviews summary statistics\")\n",
    "x.groupby(\"city\").describe()"
   ]
  },
  {
   "cell_type": "code",
   "execution_count": null,
   "metadata": {},
   "outputs": [],
   "source": [
    "x.groupby(\"city\").describe()[(0, \"mean\")].sort_values(ascending = False).plot.bar()\n",
    "plt.title(\"Average reviews per User\")"
   ]
  },
  {
   "cell_type": "markdown",
   "metadata": {},
   "source": [
    "## User Data"
   ]
  },
  {
   "cell_type": "code",
   "execution_count": null,
   "metadata": {},
   "outputs": [],
   "source": [
    "## get a list of user ids that had reviews for our candidate cities\n",
    "users_ids_subset = df_merge.user_id.unique().tolist()"
   ]
  },
  {
   "cell_type": "code",
   "execution_count": null,
   "metadata": {},
   "outputs": [],
   "source": [
    "print(len(users_ids_subset))"
   ]
  },
  {
   "cell_type": "code",
   "execution_count": null,
   "metadata": {},
   "outputs": [],
   "source": [
    "print(df_merge.shape)\n",
    "df_merge_filtered_philly = df_merge[df_merge[\"city\"]==\"Philadelphia\"]\n",
    "print(df_merge_filtered_philly.shape)"
   ]
  },
  {
   "cell_type": "code",
   "execution_count": null,
   "metadata": {},
   "outputs": [],
   "source": [
    "users_ids_subset_philly = df_merge_filtered_philly.user_id.unique().tolist()\n",
    "print(len(users_ids_subset_philly))\n",
    "users_ids_subset_philly = set(users_ids_subset_philly)"
   ]
  },
  {
   "cell_type": "markdown",
   "metadata": {},
   "source": [
    "WE HAVE AROUDN 200K UNIQUE USERS FOR REVIEWS OF PHILLY ITSELF."
   ]
  },
  {
   "cell_type": "code",
   "execution_count": null,
   "metadata": {},
   "outputs": [],
   "source": [
    "user_data_samp = []\n",
    "with open(\"/Users/kalhan/Downloads/yelp_academic_dataset_user.json\") as f:\n",
    "    for line in f:\n",
    "        if json.loads(line)[\"user_id\"] in users_ids_subset_philly:\n",
    "            user_data_samp.append(json.loads(line))\n",
    "            \n",
    "user_data_samp = pd.DataFrame.from_dict(user_data_samp)\n",
    "user_data_samp.to_csv(\"user_df.csv\", index=None)"
   ]
  },
  {
   "cell_type": "code",
   "execution_count": null,
   "metadata": {},
   "outputs": [],
   "source": [
    "len(user_data_samp)"
   ]
  },
  {
   "cell_type": "code",
   "execution_count": null,
   "metadata": {},
   "outputs": [],
   "source": [
    "user_data_samp.head()\n"
   ]
  },
  {
   "cell_type": "code",
   "execution_count": null,
   "metadata": {},
   "outputs": [],
   "source": [
    "user_data_samp.info()"
   ]
  },
  {
   "cell_type": "code",
   "execution_count": null,
   "metadata": {},
   "outputs": [],
   "source": []
  },
  {
   "cell_type": "code",
   "execution_count": null,
   "metadata": {},
   "outputs": [],
   "source": []
  }
 ],
 "metadata": {
  "kernelspec": {
   "display_name": "Python 3",
   "language": "python",
   "name": "python3"
  },
  "language_info": {
   "codemirror_mode": {
    "name": "ipython",
    "version": 3
   },
   "file_extension": ".py",
   "mimetype": "text/x-python",
   "name": "python",
   "nbconvert_exporter": "python",
   "pygments_lexer": "ipython3",
   "version": "3.10.0"
  },
  "varInspector": {
   "cols": {
    "lenName": 16,
    "lenType": 16,
    "lenVar": 40
   },
   "kernels_config": {
    "python": {
     "delete_cmd_postfix": "",
     "delete_cmd_prefix": "del ",
     "library": "var_list.py",
     "varRefreshCmd": "print(var_dic_list())"
    },
    "r": {
     "delete_cmd_postfix": ") ",
     "delete_cmd_prefix": "rm(",
     "library": "var_list.r",
     "varRefreshCmd": "cat(var_dic_list()) "
    }
   },
   "types_to_exclude": [
    "module",
    "function",
    "builtin_function_or_method",
    "instance",
    "_Feature"
   ],
   "window_display": false
  }
 },
 "nbformat": 4,
 "nbformat_minor": 4
}
