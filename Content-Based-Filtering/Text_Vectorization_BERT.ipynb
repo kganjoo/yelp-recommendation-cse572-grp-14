{
 "cells": [
  {
   "cell_type": "code",
   "execution_count": null,
   "metadata": {},
   "outputs": [],
   "source": [
    "import sys\n",
    "!{sys.executable} -m pip install pandas\n",
    "!{sys.executable} -m pip install keyphrase-vectorizers\n",
    "!{sys.executable} -m pip install keybert\n",
    "!{sys.executable} -m pip install ipywidgets\n",
    "# !jupyter nbextension enable --py widgetsnbextension"
   ]
  },
  {
   "cell_type": "code",
   "execution_count": 2,
   "metadata": {},
   "outputs": [],
   "source": [
    "#!/usr/bin/env python\n",
    "# coding: utf-8\n",
    "\n",
    "import pandas as pd\n",
    "import numpy as np\n",
    "import pathlib \n",
    "from keyphrase_vectorizers import KeyphraseCountVectorizer\n",
    "from keybert import KeyBERT\n",
    "from sentence_transformers import SentenceTransformer\n",
    "import matplotlib.pyplot as plt"
   ]
  },
  {
   "cell_type": "code",
   "execution_count": 3,
   "metadata": {},
   "outputs": [
    {
     "name": "stdout",
     "output_type": "stream",
     "text": [
      "229907 Index(['votes', 'user_id', 'review_id', 'stars', 'date', 'text', 'type',\n",
      "       'business_id'],\n",
      "      dtype='object')\n",
      "count in user df 45981\n",
      "   index                 user_id  \\\n",
      "0      0  --5hzxWLz5ozIg6OMo6tpQ   \n",
      "1      1  --65q1FpAL_UQtVZ2PTGew   \n",
      "2      2  --AqBuo717RyacADExYbSA   \n",
      "3      3  --LzFD0UDbYE-Oho3AhsOg   \n",
      "4      4  --M-cIkGnH1KhnLaCOmoPQ   \n",
      "\n",
      "                                         business_id  \\\n",
      "0                           [Z3n01OZqARDv06QgBneOZw]   \n",
      "1  [r-a-Cn9hxdEnYTtVTB5bMQ, cOUS79i4vltKIc_hy4OZB...   \n",
      "2                           [yTFdhqH9eLzaP05xXQa2rw]   \n",
      "3   [yZbPvIa_7nt7ekxi31SkUA, r7GXuj4rr2vGPU_pklxcQg]   \n",
      "4                           [oCA2OZcd_Jo_ggVmUx3WVw]   \n",
      "\n",
      "                                               stars  \n",
      "0                                                [5]  \n",
      "1  [4, 5, 4, 4, 5, 3, 4, 3, 5, 4, 4, 2, 3, 5, 5, ...  \n",
      "2                                                [5]  \n",
      "3                                             [4, 3]  \n",
      "4                                                [5]  \n"
     ]
    }
   ],
   "source": [
    "# data_dir = pathlib.Path('train_data.json')\n",
    "data_dir = pathlib.Path('kaggle/yelp_training_set_review.json')\n",
    "\n",
    "original_df = pd.read_json(data_dir)\n",
    "print(original_df.shape[0], original_df.columns)\n",
    "original_df = original_df[[\"business_id\", \"text\", \"user_id\", \"stars\"]]\n",
    "\n",
    "# Group by 'user_id' and aggregate the 'business_id' and 'stars'\n",
    "user_df = original_df.groupby('user_id', as_index=False)[['business_id', 'stars']].agg(list).reset_index()\n",
    "\n",
    "print(\"count in user df\", user_df.shape[0])\n",
    "print(user_df.head())"
   ]
  },
  {
   "cell_type": "code",
   "execution_count": 4,
   "metadata": {},
   "outputs": [
    {
     "name": "stdout",
     "output_type": "stream",
     "text": [
      "       index                 user_id  \\\n",
      "31258  31258  fczQCSmaWF78toLEmb0Zsw   \n",
      "\n",
      "                                             business_id  \\\n",
      "31258  [c7VgGP8xT25OSReok6fwcQ, h8rqIokh6EkM4flR9Cjxb...   \n",
      "\n",
      "                                                   stars  \n",
      "31258  [4, 4, 4, 5, 4, 5, 5, 5, 5, 4, 4, 4, 1, 4, 4, ...  \n"
     ]
    }
   ],
   "source": [
    "#pick a user who has reviewed the most restaurants\n",
    "users_with_most_ratings = user_df[user_df['business_id'].apply(len) > 570]\n",
    "print(users_with_most_ratings)\n",
    "#user with most ratings: fczQCSmaWF78toLEmb0Zsw\n"
   ]
  },
  {
   "cell_type": "code",
   "execution_count": 100,
   "metadata": {},
   "outputs": [
    {
     "name": "stdout",
     "output_type": "stream",
     "text": [
      "count in business df 588\n",
      "count in business df                 business_id                                               text\n",
      "0    -3WVw1TNQbPBzaKCaQQ1AQ  Had lunch here today after hearing all the col...\n",
      "1    -4A5xmN21zi_TXnUESauUQ  Came here and did drive-though to pick up a tu...\n",
      "2    -8wyZkzfBmCFkMwCGcR4PQ  So after coming here for the first time the ot...\n",
      "3    -AAig9FG0s8gYE4f8GfowQ  Maestro Chris Bianco whips up addictive sandwi...\n",
      "4    -KF9RQPkmIOHfE0tzUu9bg  What was Dunkin Donuts thinking when they took...\n",
      "..                      ...                                                ...\n",
      "583  zmFc8M-hS4uuyY0hklIpoQ  A definite favorite in the neighborhood.\\n\\nTh...\n",
      "584  zruUQvFySeXyEd7_rQixBg  We arrived at US Egg on St. Patrick's Day at 1...\n",
      "585  zw2iJahOnSxlzmRlF4al6g  Nice spot, with a friendly staff.  The sandwic...\n",
      "586  zxqvU415r_RtZRKDtdbIKQ  REAL NY STYLE CHINESE FOOD HERE IN ARIZONA!!! ...\n",
      "587  zzucnDH33KlmbkI4rLyQTA  I needed to fill in holes in my ski wardrobe--...\n",
      "\n",
      "[588 rows x 2 columns]\n"
     ]
    }
   ],
   "source": [
    "user_filtered_businesses = users_with_most_ratings['business_id'].iloc[0]\n",
    "\n",
    "#filter businesses out that have been reviewed by current user\n",
    "filtered_df = original_df[original_df['business_id'].isin(user_filtered_businesses)]\n",
    "\n",
    "# Group by 'business_id' and aggregate 'text' and 'stars'\n",
    "business_df = filtered_df.groupby('business_id', as_index=True).agg({'text': ','.join}).reset_index()\n",
    "\n",
    "# drop duplicate data \n",
    "business_df = business_df.drop_duplicates() \n",
    "\n",
    "print(\"count in business df\", business_df.shape[0])\n",
    "print(\"count in business df\", business_df)"
   ]
  },
  {
   "cell_type": "code",
   "execution_count": 9,
   "metadata": {},
   "outputs": [
    {
     "data": {
      "text/plain": [
       "0    Had lunch here today after hearing all the col...\n",
       "1    Came here and did drive-though to pick up a tu...\n",
       "2    So after coming here for the first time the ot...\n",
       "3    Maestro Chris Bianco whips up addictive sandwi...\n",
       "4    What was Dunkin Donuts thinking when they took...\n",
       "Name: text, dtype: object"
      ]
     },
     "execution_count": 9,
     "metadata": {},
     "output_type": "execute_result"
    }
   ],
   "source": [
    "# extract restaurant reviews as an array, these reviews are by all users\n",
    "restaurant_reviews=business_df['text']\n",
    "restaurant_reviews.head()"
   ]
  },
  {
   "cell_type": "code",
   "execution_count": 10,
   "metadata": {},
   "outputs": [
    {
     "data": {
      "application/vnd.jupyter.widget-view+json": {
       "model_id": "bc611108fa1c4e46a89a112704c13504",
       "version_major": 2,
       "version_minor": 0
      },
      "text/plain": [
       "Batches:   0%|          | 0/19 [00:00<?, ?it/s]"
      ]
     },
     "metadata": {},
     "output_type": "display_data"
    }
   ],
   "source": [
    "model = SentenceTransformer('distilbert-base-nli-mean-tokens')\n",
    "embeddings = model.encode(restaurant_reviews, show_progress_bar=True)"
   ]
  },
  {
   "cell_type": "code",
   "execution_count": 11,
   "metadata": {
    "scrolled": true
   },
   "outputs": [
    {
     "name": "stdout",
     "output_type": "stream",
     "text": [
      "[[ 0.04383374 -0.1057466   0.14801979 ...  0.15176639  0.22042583\n",
      "  -0.05858767]\n",
      " [ 0.01372097 -0.38152567  0.5327189  ...  0.65647423  0.48541412\n",
      "  -0.44912857]\n",
      " [ 0.36412263 -0.22436361  0.6352138  ...  0.2945958  -0.22073637\n",
      "  -0.4541159 ]\n",
      " ...\n",
      " [ 0.0085351  -0.4191617   0.2085172  ...  0.5982428   0.27104366\n",
      "  -0.25728327]\n",
      " [ 0.00707619  0.06160622  0.14750385 ... -0.04282828  0.12594736\n",
      "  -0.4758514 ]\n",
      " [ 0.20037936 -0.08473375  0.11987599 ... -0.23582016 -0.2984317\n",
      "  -0.37251252]]\n"
     ]
    }
   ],
   "source": [
    "print(embeddings)"
   ]
  },
  {
   "cell_type": "code",
   "execution_count": 46,
   "metadata": {},
   "outputs": [],
   "source": [
    "from sklearn.metrics.pairwise import cosine_similarity\n",
    "import seaborn as sns"
   ]
  },
  {
   "cell_type": "code",
   "execution_count": 128,
   "metadata": {},
   "outputs": [],
   "source": [
    "cos_sim_data = pd.DataFrame(cosine_similarity(X))\n",
    "\n",
    "def give_recommendations(index, print_recommendation=False):\n",
    "    index_recomm = cos_sim_data.loc[index].sort_values(ascending=False).index.tolist()\n",
    "\n",
    "    # Filter the index list based on cosine similarity > 0.5\n",
    "    filtered_index_recomm = [i for i in index_recomm if cos_sim_data.loc[index, i] > 0.5]\n",
    "\n",
    "    # Print the filtered index list and corresponding cosine similarity values\n",
    "    filtered_cos_sim_values = cos_sim_data.loc[index, filtered_index_recomm].sort_values(ascending=False)\n",
    "    bus_recomm = business_df['business_id'].loc[filtered_index_recomm].values\n",
    "    \n",
    "    # Create a DataFrame with the results\n",
    "    result_df = pd.DataFrame({\n",
    "        'business': bus_recomm,\n",
    "        'filtered_index': filtered_index_recomm,\n",
    "        'filtered_cos_sim_values': filtered_cos_sim_values.values\n",
    "    })\n",
    "\n",
    "    if print_recommendation:\n",
    "        print(result_df)\n",
    "\n",
    "    return result_df"
   ]
  },
  {
   "cell_type": "code",
   "execution_count": 130,
   "metadata": {},
   "outputs": [
    {
     "name": "stdout",
     "output_type": "stream",
     "text": [
      "                   business  filtered_index  filtered_cos_sim_values\n",
      "0    -8wyZkzfBmCFkMwCGcR4PQ               2                 1.000000\n",
      "1    5-X03Zc0nN7U5eoe8uFUdw              54                 0.890782\n",
      "2    mxrXVZWc6PWk81gvOVNOUw             468                 0.888999\n",
      "3    755-2byE2zGMoMBR95UABg              73                 0.885118\n",
      "4    sYufscrC4xb7JfI4Kdp2cg             510                 0.883153\n",
      "..                      ...             ...                      ...\n",
      "583  HW_QFzCZfF4yqN64F5Xx_Q             183                 0.567915\n",
      "584  gxuVySgACHDqJlwmelFHLA             416                 0.556604\n",
      "585  3F7Im__Cs1v2wTZhB2yo0A              37                 0.532934\n",
      "586  _1QQZuf4zZOyFCvXc0o6Vg             351                 0.531611\n",
      "587  rk4evtzXiaHF2W8U0eX3TQ             507                 0.502597\n",
      "\n",
      "[588 rows x 3 columns]\n"
     ]
    }
   ],
   "source": [
    "# pick a random restaurant to predict rating by the user for\n",
    "res = give_recommendations(2,True)"
   ]
  },
  {
   "cell_type": "code",
   "execution_count": 131,
   "metadata": {},
   "outputs": [
    {
     "data": {
      "text/html": [
       "<div>\n",
       "<style scoped>\n",
       "    .dataframe tbody tr th:only-of-type {\n",
       "        vertical-align: middle;\n",
       "    }\n",
       "\n",
       "    .dataframe tbody tr th {\n",
       "        vertical-align: top;\n",
       "    }\n",
       "\n",
       "    .dataframe thead th {\n",
       "        text-align: right;\n",
       "    }\n",
       "</style>\n",
       "<table border=\"1\" class=\"dataframe\">\n",
       "  <thead>\n",
       "    <tr style=\"text-align: right;\">\n",
       "      <th></th>\n",
       "      <th>business_id</th>\n",
       "      <th>full_address</th>\n",
       "      <th>open</th>\n",
       "      <th>categories</th>\n",
       "      <th>city</th>\n",
       "      <th>review_count</th>\n",
       "      <th>name</th>\n",
       "      <th>neighborhoods</th>\n",
       "      <th>longitude</th>\n",
       "      <th>state</th>\n",
       "      <th>stars</th>\n",
       "      <th>latitude</th>\n",
       "      <th>type</th>\n",
       "    </tr>\n",
       "  </thead>\n",
       "  <tbody>\n",
       "    <tr>\n",
       "      <th>0</th>\n",
       "      <td>rncjoVoEFUJGCUoC1JgnUA</td>\n",
       "      <td>8466 W Peoria Ave\\nSte 6\\nPeoria, AZ 85345</td>\n",
       "      <td>True</td>\n",
       "      <td>[Accountants, Professional Services, Tax Servi...</td>\n",
       "      <td>Peoria</td>\n",
       "      <td>3</td>\n",
       "      <td>Peoria Income Tax Service</td>\n",
       "      <td>[]</td>\n",
       "      <td>-112.241596</td>\n",
       "      <td>AZ</td>\n",
       "      <td>5.0</td>\n",
       "      <td>33.581867</td>\n",
       "      <td>business</td>\n",
       "    </tr>\n",
       "    <tr>\n",
       "      <th>1</th>\n",
       "      <td>0FNFSzCFP_rGUoJx8W7tJg</td>\n",
       "      <td>2149 W Wood Dr\\nPhoenix, AZ 85029</td>\n",
       "      <td>True</td>\n",
       "      <td>[Sporting Goods, Bikes, Shopping]</td>\n",
       "      <td>Phoenix</td>\n",
       "      <td>5</td>\n",
       "      <td>Bike Doctor</td>\n",
       "      <td>[]</td>\n",
       "      <td>-112.105933</td>\n",
       "      <td>AZ</td>\n",
       "      <td>5.0</td>\n",
       "      <td>33.604054</td>\n",
       "      <td>business</td>\n",
       "    </tr>\n",
       "    <tr>\n",
       "      <th>2</th>\n",
       "      <td>3f_lyB6vFK48ukH6ScvLHg</td>\n",
       "      <td>1134 N Central Ave\\nPhoenix, AZ 85004</td>\n",
       "      <td>True</td>\n",
       "      <td>[]</td>\n",
       "      <td>Phoenix</td>\n",
       "      <td>4</td>\n",
       "      <td>Valley Permaculture Alliance</td>\n",
       "      <td>[]</td>\n",
       "      <td>-112.073933</td>\n",
       "      <td>AZ</td>\n",
       "      <td>5.0</td>\n",
       "      <td>33.460526</td>\n",
       "      <td>business</td>\n",
       "    </tr>\n",
       "    <tr>\n",
       "      <th>3</th>\n",
       "      <td>usAsSV36QmUej8--yvN-dg</td>\n",
       "      <td>845 W Southern Ave\\nPhoenix, AZ 85041</td>\n",
       "      <td>True</td>\n",
       "      <td>[Food, Grocery]</td>\n",
       "      <td>Phoenix</td>\n",
       "      <td>5</td>\n",
       "      <td>Food City</td>\n",
       "      <td>[]</td>\n",
       "      <td>-112.085377</td>\n",
       "      <td>AZ</td>\n",
       "      <td>3.5</td>\n",
       "      <td>33.392210</td>\n",
       "      <td>business</td>\n",
       "    </tr>\n",
       "    <tr>\n",
       "      <th>4</th>\n",
       "      <td>PzOqRohWw7F7YEPBz6AubA</td>\n",
       "      <td>6520 W Happy Valley Rd\\nSte 101\\nGlendale Az, ...</td>\n",
       "      <td>True</td>\n",
       "      <td>[Food, Bagels, Delis, Restaurants]</td>\n",
       "      <td>Glendale Az</td>\n",
       "      <td>14</td>\n",
       "      <td>Hot Bagels &amp; Deli</td>\n",
       "      <td>[]</td>\n",
       "      <td>-112.200264</td>\n",
       "      <td>AZ</td>\n",
       "      <td>3.5</td>\n",
       "      <td>33.712797</td>\n",
       "      <td>business</td>\n",
       "    </tr>\n",
       "  </tbody>\n",
       "</table>\n",
       "</div>"
      ],
      "text/plain": [
       "              business_id                                       full_address  \\\n",
       "0  rncjoVoEFUJGCUoC1JgnUA         8466 W Peoria Ave\\nSte 6\\nPeoria, AZ 85345   \n",
       "1  0FNFSzCFP_rGUoJx8W7tJg                  2149 W Wood Dr\\nPhoenix, AZ 85029   \n",
       "2  3f_lyB6vFK48ukH6ScvLHg              1134 N Central Ave\\nPhoenix, AZ 85004   \n",
       "3  usAsSV36QmUej8--yvN-dg              845 W Southern Ave\\nPhoenix, AZ 85041   \n",
       "4  PzOqRohWw7F7YEPBz6AubA  6520 W Happy Valley Rd\\nSte 101\\nGlendale Az, ...   \n",
       "\n",
       "   open                                         categories         city  \\\n",
       "0  True  [Accountants, Professional Services, Tax Servi...       Peoria   \n",
       "1  True                  [Sporting Goods, Bikes, Shopping]      Phoenix   \n",
       "2  True                                                 []      Phoenix   \n",
       "3  True                                    [Food, Grocery]      Phoenix   \n",
       "4  True                 [Food, Bagels, Delis, Restaurants]  Glendale Az   \n",
       "\n",
       "   review_count                          name neighborhoods   longitude state  \\\n",
       "0             3     Peoria Income Tax Service            [] -112.241596    AZ   \n",
       "1             5                   Bike Doctor            [] -112.105933    AZ   \n",
       "2             4  Valley Permaculture Alliance            [] -112.073933    AZ   \n",
       "3             5                     Food City            [] -112.085377    AZ   \n",
       "4            14             Hot Bagels & Deli            [] -112.200264    AZ   \n",
       "\n",
       "   stars   latitude      type  \n",
       "0    5.0  33.581867  business  \n",
       "1    5.0  33.604054  business  \n",
       "2    5.0  33.460526  business  \n",
       "3    3.5  33.392210  business  \n",
       "4    3.5  33.712797  business  "
      ]
     },
     "execution_count": 131,
     "metadata": {},
     "output_type": "execute_result"
    }
   ],
   "source": [
    "#load details about businesses\n",
    "business_detail_df = pd.read_json('kaggle/yelp_training_set_business.json',orient='records',lines=True)\n",
    "business_detail_df.head()"
   ]
  },
  {
   "cell_type": "code",
   "execution_count": 134,
   "metadata": {},
   "outputs": [
    {
     "name": "stdout",
     "output_type": "stream",
     "text": [
      "Input restaturant is:  Poppa Maize\n"
     ]
    }
   ],
   "source": [
    "input_business_id = business_df['business_id'].loc[index]\n",
    "input_business_name = business_detail_df.loc[(business_detail_df['business_id'] == input_business_id)][[\"name\"]].iloc[0]['name']\n",
    "print(\"Input restaturant is: \", input_business_name)\n",
    "\n",
    "#get names of recommemded movies\n",
    "# recommended_business = res['Businesses']\n",
    "# business_names = []\n",
    "# for bus in recommended_business:\n",
    "#     rslt_df = business_detail_df.loc[(business_detail_df['business_id'] == bus)][[\"name\"]]\n",
    "#     business_names.append(rslt_df.iloc[0]['name'])\n",
    "    \n",
    "# print(\"Most similar restaturants are: \",business_names)\n",
    "            "
   ]
  },
  {
   "cell_type": "code",
   "execution_count": null,
   "metadata": {},
   "outputs": [],
   "source": [
    "# Now let's figure out how the user would rate this restaurant \n",
    "# based on it's most similar restaturants that it has already reviewed and rated\n",
    "# we are assuming the cosine similarity is linear\n",
    "print(res)\n",
    "# find stars given by user\n",
    "user_ratings = users_with_most_ratings['stars'].iloc[0]\n",
    "print(user_ratings)\n"
   ]
  }
 ],
 "metadata": {
  "kernelspec": {
   "display_name": "Python 3 (ipykernel)",
   "language": "python",
   "name": "python3"
  },
  "language_info": {
   "codemirror_mode": {
    "name": "ipython",
    "version": 3
   },
   "file_extension": ".py",
   "mimetype": "text/x-python",
   "name": "python",
   "nbconvert_exporter": "python",
   "pygments_lexer": "ipython3",
   "version": "3.10.13"
  }
 },
 "nbformat": 4,
 "nbformat_minor": 5
}
